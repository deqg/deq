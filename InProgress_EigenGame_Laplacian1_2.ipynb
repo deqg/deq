{
  "cells": [
    {
      "cell_type": "markdown",
      "metadata": {
        "id": "view-in-github",
        "colab_type": "text"
      },
      "source": [
        "<a href=\"https://colab.research.google.com/github/deqg/deq/blob/main/InProgress_EigenGame_Laplacian1_2.ipynb\" target=\"_parent\"><img src=\"https://colab.research.google.com/assets/colab-badge.svg\" alt=\"Open In Colab\"/></a>"
      ]
    },
    {
      "cell_type": "markdown",
      "metadata": {
        "id": "3hmKQgfx83iB"
      },
      "source": [
        "#1d example of the Dirichlet eigenvalue problem\n",
        "\n",
        "## The problem\n",
        "\n",
        "$$-u''(x) = \\lambda u(x)$$\n",
        "$$u(0)=u(1)=0$$\n",
        "\n",
        "To find the solution to the above problem using Mathematica:\n",
        "\n",
        "https://www.wolframalpha.com/input?i=Solve+-u%27%27%28x%29+%3D+lambda+u%28x%29%2C+u%280%29%3Du%281%29%3D0\n",
        "\n",
        "gives the solution\n",
        "\n",
        "$$u(x) = c \\sin(\\sqrt{\\lambda} x)$$\n",
        "$$\\lambda = (n\\pi)^2,n=1,2,\\cdots$$\n",
        "\n",
        "The eigenvalues form an increasing sequence.\n",
        "\n",
        "Refs:\n",
        "\n",
        "[1] https://en.wikipedia.org/wiki/Dirichlet_eigenvalue\n",
        "\n",
        "[2] https://www.math.ucdavis.edu/~saito/tutorials/nifs13.pdf\n",
        "\n",
        "[3] https://faculty.math.illinois.edu/~laugesen/595Lectures.pdf (Chapter 2, 32)\n",
        "\n"
      ]
    },
    {
      "cell_type": "markdown",
      "metadata": {
        "id": "iSIeNvCNConj"
      },
      "source": [
        "#Theoretical formulation\n",
        "The eigenvalues could be find using\n",
        "$$\\lambda_1 = \\inf_{\\int_{\\Omega}u^2 dx =1}\\int_\\Omega |\\nabla u|^2 dx$$\n",
        "$$\\lambda_2 = \\inf_{\\int_{\\Omega}u^2 dx=1, \\int_{\\Omega} u \\cdot u_1 dx = 0}\\int_\\Omega |\\nabla u|^2 dx$$\n",
        "$$\\ldots$$\n",
        "$$\\lambda_k =\\inf_{\\int_\\Omega u^2 dx = 1, \\int_{\\Omega} u\\cdot u_sdx = 0, s=1,\\ldots,k-1}\\int_\\Omega |\\nabla u|^2 dx$$\n",
        "\n",
        "Instead of using the orthogonal constraints, we can use the Gram-Schmidt process to define the orthogonal space. For example, any space\n",
        "$V_1 = \\{u:\\int_{\\Omega} u \\cdot u_1 dx = 0\\}$\n",
        "can be represented by\n",
        "$$u-\\frac{\\langle u,u_1\\rangle}{\\langle u_1,u_1\\rangle} u_1$$\n",
        "($\\langle f,g \\rangle=\\int_\\Omega fg dx$ is the inner product)\n",
        "this can be also rewritten using $\\langle \\nabla u,\\nabla u_1 \\rangle = \\langle u, (-\\Delta u_1)\\rangle = \\langle u,\\lambda u_1\\rangle$ (the first equality is due to integration-by-parts, the second equality is due to $u_1$ being the first eigenfunction) as\n",
        "$$u-\\frac{\\langle \\nabla u,\\nabla u_1\\rangle}{\\langle \\nabla u_1,\\nabla u_1\\rangle} u_1$$\n",
        "Hence $\\lambda_2$ can be solved by\n",
        "$$\\lambda_2 = \\inf_{\\int_\\Omega \\left(u-\\frac{\\langle \\nabla u,\\nabla u_1\\rangle}{\\langle \\nabla u_1,\\nabla u_1\\rangle} u_1\\right)^2 dx = 1}\\int_\\Omega \\left(\\nabla u-\\frac{\\langle \\nabla u,\\nabla u_1\\rangle}{\\langle \\nabla u_1,\\nabla u_1\\rangle} \\nabla u_1\\right)^2dx$$\n",
        "and this equals\n",
        "$$\\lambda_2 = \\inf_{\\int_\\Omega \\left(u-\\frac{\\langle \\nabla u,\\nabla u_1\\rangle}{\\langle \\nabla u_1,\\nabla u_1\\rangle} u_1\\right)^2 dx = 1}\\langle \\nabla u,\\nabla u\\rangle -\\frac{(\\langle \\nabla u,\\nabla u_1\\rangle)^2}{\\langle \\nabla u_1,\\nabla u_1\\rangle} $$\n",
        "Simply, one can find the orthogonal space $V_k=\\{u: \\langle u,u_1\\rangle =\\ldots=\\langle u_{k-1}\\rangle =0\\}$ represented by\n",
        "$$u-\\sum_{j=1}^{k-1} \\frac{\\langle \\nabla u,\\nabla u_j\\rangle}{\\langle \\nabla u_j,\\nabla u_j\\rangle} u_j$$\n"
      ]
    },
    {
      "cell_type": "markdown",
      "metadata": {
        "id": "70dNEzUACYDz"
      },
      "source": [
        "## The computation of the Dirichlet eigenvalue problem\n",
        "A neural network is constructed to represent the function $u_\\theta(x)$ with $\\theta$ being the parameters of the neural network.\n",
        "\n",
        "The minimization procedure: following the EigenGame paper (https://arxiv.org/pdf/2010.00554.pdf)\n",
        "\n",
        "$\\lambda_1 = \\min_{\\theta}\\frac{\\int_0^1 (u_{\\theta}')^2 dx}{\\int_0^1 u_\\theta^2 dx}$\n",
        "\n",
        "$\\lambda_2 = \\min_{\\theta} \\frac{\\int_0^1 (u'_\\theta)^2 dx}{\\int_0^1 v_\\theta^2 dx} - \\frac{(\\int_{0}^1 u_{\\theta}' u_1' ds)^2}{\\int_0^1 (u_1')^2 dx \\cdot \\int_0^1 v_\\theta^2 dx}$\n",
        "where $v_\\theta = u_\\theta - \\frac{\\langle u_\\theta',u_1'\\rangle}{\\langle u_1',u_1'\\rangle}u_1$\n",
        "\n",
        ">in order to impose the constraint $u(0)=u(1)=0$, we take\n",
        "$$u(x) = N(x) (1-e^{-x})(1-e^{-(x-1)})$$\n",
        "with $N(x)$ represented by the neural network\n",
        "\n",
        ">the integration is evaluated using Mento-Carlo integration\n",
        "$$\\int_0^1 u(x) dx = \\frac{1}{N} \\sum_{i=1}^N u(x_i)$$\n",
        "with $x_i$ drawing from uniform distribution $U[0,1]$."
      ]
    },
    {
      "cell_type": "code",
      "execution_count": null,
      "metadata": {
        "id": "SOhXEEKkVNMl"
      },
      "outputs": [],
      "source": [
        "import jax.numpy as jnp\n",
        "from jax import grad, jit, vmap\n",
        "from jax import random\n",
        "import jax\n",
        "\n",
        "import matplotlib.pyplot as plt"
      ]
    },
    {
      "cell_type": "markdown",
      "metadata": {
        "id": "keho2afg9LB8"
      },
      "source": [
        "List the first three eigenvectors and eigenvalues"
      ]
    },
    {
      "cell_type": "code",
      "execution_count": null,
      "metadata": {
        "colab": {
          "base_uri": "https://localhost:8080/",
          "height": 282
        },
        "id": "K2NfJNEY9PK1",
        "outputId": "3b0ebc37-9d4b-4e3c-c632-ad1bd793456e"
      },
      "outputs": [
        {
          "output_type": "execute_result",
          "data": {
            "text/plain": [
              "<matplotlib.legend.Legend at 0x7f96c10e7c40>"
            ]
          },
          "metadata": {},
          "execution_count": 2
        },
        {
          "output_type": "display_data",
          "data": {
            "text/plain": [
              "<Figure size 432x288 with 1 Axes>"
            ],
            "image/png": "[encoded data removed]"
          },
          "metadata": {
            "needs_background": "light"
          }
        }
      ],
      "source": [
        "\n",
        "x = jnp.linspace(0,1,100)\n",
        "u1 = jnp.sin(jnp.pi*x)\n",
        "u2 = jnp.sin(2*jnp.pi*x)\n",
        "u3 = jnp.sin(3*jnp.pi*x)\n",
        "\n",
        "plt.plot(u1)\n",
        "plt.plot(u2)\n",
        "plt.plot(u3)\n",
        "plt.legend(['1','2','3'])"
      ]
    },
    {
      "cell_type": "code",
      "execution_count": null,
      "metadata": {
        "id": "Cyjz9KAoVSvI"
      },
      "outputs": [],
      "source": [
        "def random_layer_params(m, n, key, scale=1e-2):\n",
        "  w_key, b_key = random.split(key)\n",
        "  return scale * random.normal(w_key, (n, m)), scale * random.normal(b_key, (n,))\n",
        "\n",
        "# Initialize all layers for a fully-connected neural network with sizes \"sizes\"\n",
        "def init_network_params(sizes, key):\n",
        "  keys = random.split(key, len(sizes))\n",
        "  return [random_layer_params(m, n, k) for m, n, k in zip(sizes[:-1], sizes[1:], keys)]\n",
        "\n",
        "# layer_sizes = [1, 1024, 1024, 1]\n",
        "layer_sizes = [1, 256, 256, 1]\n",
        "step_size = 1e-2\n",
        "params = init_network_params(layer_sizes, random.PRNGKey(0))\n"
      ]
    },
    {
      "cell_type": "code",
      "execution_count": null,
      "metadata": {
        "id": "o-OKBp0aVUWW"
      },
      "outputs": [],
      "source": [
        "def relu(x):\n",
        "  return jnp.maximum(0, x)\n",
        "def tanh(x):\n",
        "  return jnp.tanh(x)\n",
        "\n",
        "def predict(params, x):\n",
        "  activations = x\n",
        "  for w, b in params[:-1]:\n",
        "    outputs = jnp.dot(w, activations) + b\n",
        "    activations = tanh(outputs)\n",
        "\n",
        "  final_w, final_b = params[-1]\n",
        "  output = jnp.dot(final_w, activations) + final_b\n",
        "  return output* (1.-jnp.exp(-(x))) * (1.-jnp.exp(-(x-1)))\n"
      ]
    },
    {
      "cell_type": "code",
      "execution_count": null,
      "metadata": {
        "id": "r1eVmyI9Va-H"
      },
      "outputs": [],
      "source": [
        "def predict_one(params,x):\n",
        "  return predict(params,x)[0]\n",
        "# creating new function, uses other functions\n",
        "batched_predict = vmap(predict_one, in_axes=(None, 0))\n",
        "# random_flattened_image = random.normal(random.PRNGKey(1), (125,1))\n",
        "# preds = batched_predict(params, random_flattened_image)\n",
        "# preds.shape\n",
        "batched_grad = vmap(grad(predict_one,argnums=1), in_axes=(None, 0))\n"
      ]
    },
    {
      "cell_type": "code",
      "execution_count": null,
      "metadata": {
        "id": "1rEfpEX_VyCC"
      },
      "outputs": [],
      "source": [
        "def loss(params,x):\n",
        "  y = batched_grad(params,x)\n",
        "  z = batched_predict(params,x)\n",
        "  return jnp.mean(y*y)/jnp.mean(z*z)"
      ]
    },
    {
      "cell_type": "code",
      "execution_count": null,
      "metadata": {
        "id": "quHrMsrVV0V6"
      },
      "outputs": [],
      "source": [
        "@jit\n",
        "def update(params, x):\n",
        "  grads = grad(loss)(params, x)\n",
        "  return [(w - step_size * dw, b - step_size * db)\n",
        "          for (w, b), (dw, db) in zip(params, grads)]\n"
      ]
    },
    {
      "cell_type": "code",
      "execution_count": null,
      "metadata": {
        "id": "TITwehEhV1vD"
      },
      "outputs": [],
      "source": [
        "for epoch in range(3000):\n",
        "    x = random.uniform(random.PRNGKey(1),(1000,1),minval=0.,maxval=1.)\n",
        "    for _ in range(1):\n",
        "      params = update(params, x)\n"
      ]
    },
    {
      "cell_type": "code",
      "execution_count": null,
      "metadata": {
        "id": "qB6qdJLcV3Pi",
        "colab": {
          "base_uri": "https://localhost:8080/"
        },
        "outputId": "e7f8514c-7271-4d3a-e3b7-2cb4cb1d728b"
      },
      "outputs": [
        {
          "output_type": "stream",
          "name": "stdout",
          "text": [
            "9.908104\n"
          ]
        }
      ],
      "source": [
        "xx = jnp.linspace(0,1,10000)\n",
        "xx = xx.reshape((10000,1))\n",
        "zz = batched_predict(params,xx)\n",
        "yy = batched_grad(params,xx)\n",
        "print(jnp.mean(yy*yy)/jnp.mean(zz*zz))"
      ]
    },
    {
      "cell_type": "code",
      "execution_count": null,
      "metadata": {
        "id": "44g6Ht4sV5BC",
        "colab": {
          "base_uri": "https://localhost:8080/",
          "height": 282
        },
        "outputId": "42c81cef-7c96-499c-f03a-0ca72ae63173"
      },
      "outputs": [
        {
          "output_type": "execute_result",
          "data": {
            "text/plain": [
              "<matplotlib.legend.Legend at 0x7f96c104da90>"
            ]
          },
          "metadata": {},
          "execution_count": 11
        },
        {
          "output_type": "display_data",
          "data": {
            "text/plain": [
              "<Figure size 432x288 with 1 Axes>"
            ],
            "image/png": "[encoded data removed]"
          },
          "metadata": {
            "needs_background": "light"
          }
        }
      ],
      "source": [
        "import matplotlib.pyplot as plt\n",
        "\n",
        "plt.plot(-zz/jnp.sqrt(jnp.mean(zz**2)))\n",
        "plt.plot(jnp.sin(jnp.pi*xx)*jnp.sqrt(2))\n",
        "plt.legend(['Calculated eigenfunction','theoretical eigenfunction'])"
      ]
    },
    {
      "cell_type": "markdown",
      "metadata": {
        "id": "klVhHVeJGa2p"
      },
      "source": [
        "Calculate the second eigenfunction, note that $v=u-\\frac{\\langle u',u_1'\\rangle}{\\langle u_1',u_1'\\rangle}u_1$ is the eigenfunction ( $u$ is not)"
      ]
    },
    {
      "cell_type": "code",
      "execution_count": null,
      "metadata": {
        "id": "qMX6MPnXWRlQ"
      },
      "outputs": [],
      "source": [
        "params2 = init_network_params(layer_sizes, random.PRNGKey(0))\n",
        "def loss2(params2,params,x):\n",
        "  y = batched_grad(params,x)\n",
        "  z = batched_predict(params,x)\n",
        "  y2 = batched_grad(params2,x)\n",
        "  z2 = batched_predict(params2,x)\n",
        "  dv = y2 - jnp.mean(y2*y)/jnp.mean(y*y)*y\n",
        "  v = jnp.mean((z2-z*jnp.mean(y2*y)/jnp.mean(y*y))**2)\n",
        "\n",
        "  return jnp.mean(dv**2)/v"
      ]
    },
    {
      "cell_type": "code",
      "execution_count": null,
      "metadata": {
        "id": "rXLYrClhWTjx"
      },
      "outputs": [],
      "source": [
        "@jit\n",
        "def update2(params2,params, x):\n",
        "  grads = grad(loss2)(params2, params, x)\n",
        "  return [(w - step_size * dw, b - step_size * db)\n",
        "          for (w, b), (dw, db) in zip(params2, grads)]\n"
      ]
    },
    {
      "cell_type": "code",
      "execution_count": null,
      "metadata": {
        "id": "pTKY6zK0WWq4"
      },
      "outputs": [],
      "source": [
        "los = []\n",
        "for epoch in range(3000):\n",
        "    x = random.uniform(random.PRNGKey(1),(1000,1),minval=0.,maxval=1.)\n",
        "    for _ in range(1):\n",
        "      params2 = update2(params2, params, x)\n",
        "    if epoch % 100==0:\n",
        "      los.append(loss2(params2,params,x))"
      ]
    },
    {
      "cell_type": "code",
      "execution_count": null,
      "metadata": {
        "colab": {
          "base_uri": "https://localhost:8080/",
          "height": 282
        },
        "id": "Lu03i1huWZfA",
        "outputId": "8568481e-afcc-4144-9f1d-67f50b3b7fcb"
      },
      "outputs": [
        {
          "output_type": "execute_result",
          "data": {
            "text/plain": [
              "[<matplotlib.lines.Line2D at 0x7f29983d58b0>]"
            ]
          },
          "metadata": {},
          "execution_count": 146
        },
        {
          "output_type": "display_data",
          "data": {
            "text/plain": [
              "<Figure size 432x288 with 1 Axes>"
            ],
            "image/png": "[encoded data removed]"
          },
          "metadata": {
            "needs_background": "light"
          }
        }
      ],
      "source": [
        "plt.plot(los)"
      ]
    },
    {
      "cell_type": "code",
      "execution_count": null,
      "metadata": {
        "colab": {
          "base_uri": "https://localhost:8080/",
          "height": 282
        },
        "id": "ACXoCTH_Ww7F",
        "outputId": "8394c94e-baca-4059-f42d-5c38115e0387"
      },
      "outputs": [
        {
          "output_type": "execute_result",
          "data": {
            "text/plain": [
              "<matplotlib.legend.Legend at 0x7f2999110bb0>"
            ]
          },
          "metadata": {},
          "execution_count": 147
        },
        {
          "output_type": "display_data",
          "data": {
            "text/plain": [
              "<Figure size 432x288 with 1 Axes>"
            ],
            "image/png": "[encoded data removed]"
          },
          "metadata": {
            "needs_background": "light"
          }
        }
      ],
      "source": [
        "import matplotlib.pyplot as plt\n",
        "xx = jnp.linspace(0,1,1000)\n",
        "xx = xx.reshape((1000,1))\n",
        "y = batched_grad(params,xx)\n",
        "z = batched_predict(params,xx)\n",
        "y2 = batched_grad(params2,xx)\n",
        "z2 = batched_predict(params2,xx)\n",
        "\n",
        "# plt.plot(zz/jnp.sqrt(jnp.mean(zz**2)))\n",
        "plt.plot(jnp.sin(2*jnp.pi*xx)*jnp.sqrt(2))\n",
        "ss =(z2-z*jnp.mean(y2*y)/jnp.mean(y*y))\n",
        "plt.plot(ss/jnp.sqrt(jnp.mean(ss**2)))\n",
        "plt.legend(['Calculated eigenfunction','theoretical eigenfunction'])"
      ]
    },
    {
      "cell_type": "markdown",
      "metadata": {
        "id": "hBAtBXvyIZaL"
      },
      "source": [
        "Calculate the third eigenfunction\n",
        "(note that the loss function only decrease after 4000 steps, so we increase the training epoches)"
      ]
    },
    {
      "cell_type": "code",
      "execution_count": null,
      "metadata": {
        "id": "smbuGJdTW6d3"
      },
      "outputs": [],
      "source": [
        "params3 = init_network_params(layer_sizes, random.PRNGKey(0))\n",
        "def loss3(params3,params2,params,x):\n",
        "  y = batched_grad(params,x)\n",
        "  z = batched_predict(params,x)\n",
        "  y2p = batched_grad(params2,x)\n",
        "  z2p = batched_predict(params2,x)\n",
        "  y3 = batched_grad(params3,x)\n",
        "  z3 = batched_predict(params3,x)\n",
        "  y2 = y2p - jnp.mean(y2p*y)/jnp.mean(y*y)*y\n",
        "  z2 = z2p-z*jnp.mean(y2p*y)/jnp.mean(y*y)\n",
        "\n",
        "  dv = y3 - jnp.mean(y3*y)/jnp.mean(y*y)*y - jnp.mean(y3*y2)/jnp.mean(y2*y2)*y2\n",
        "  v = jnp.mean((z3-z*jnp.mean(y3*y)/jnp.mean(y*y)-z2*jnp.mean(y3*y2)/jnp.mean(y2*y2))**2)\n",
        "\n",
        "  return jnp.mean(dv**2)/v#(jnp.mean(y2*y2) - jnp.mean(y2*y)**2/jnp.mean(y*y))/sss #jnp.mean((y2 - y*jnp.mean(y2*y)/jnp.mean(y*y))**2)"
      ]
    },
    {
      "cell_type": "code",
      "execution_count": null,
      "metadata": {
        "id": "cwfy7JirX-oU"
      },
      "outputs": [],
      "source": [
        "@jit\n",
        "def update3(params3,params2,params, x):\n",
        "  grads = grad(loss3)(params3,params2, params, x)\n",
        "  return [(w - step_size * dw, b - step_size * db)\n",
        "          for (w, b), (dw, db) in zip(params3, grads)]\n"
      ]
    },
    {
      "cell_type": "code",
      "execution_count": null,
      "metadata": {
        "id": "g43JriSnYBXc"
      },
      "outputs": [],
      "source": [
        "los = []\n",
        "for epoch in range(6000):\n",
        "    x = random.uniform(random.PRNGKey(1),(1000,1),minval=0.,maxval=1.)\n",
        "    for _ in range(1):\n",
        "      params3 = update3(params3,params2, params, x)\n",
        "    if epoch % 100==0:\n",
        "      los.append(loss3(params3,params2,params,x))"
      ]
    },
    {
      "cell_type": "code",
      "execution_count": null,
      "metadata": {
        "colab": {
          "base_uri": "https://localhost:8080/",
          "height": 287
        },
        "id": "hjliQJpRYE48",
        "outputId": "ebd1bb5a-8c45-46ad-f2bd-c54ceb1f7309"
      },
      "outputs": [
        {
          "output_type": "execute_result",
          "data": {
            "text/plain": [
              "[<matplotlib.lines.Line2D at 0x7fea39da27c0>]"
            ]
          },
          "metadata": {},
          "execution_count": 20
        },
        {
          "output_type": "display_data",
          "data": {
            "text/plain": [
              "<Figure size 432x288 with 1 Axes>"
            ],
            "image/png": "[encoded data removed]"
          },
          "metadata": {
            "needs_background": "light"
          }
        }
      ],
      "source": [
        "plt.plot(los)"
      ]
    },
    {
      "cell_type": "code",
      "execution_count": null,
      "metadata": {
        "colab": {
          "base_uri": "https://localhost:8080/",
          "height": 283
        },
        "id": "hRT1HQ0BYPtc",
        "outputId": "b347e5e9-09cc-4542-9564-14941573d5a5"
      },
      "outputs": [
        {
          "output_type": "execute_result",
          "data": {
            "text/plain": [
              "<matplotlib.legend.Legend at 0x7fea39d0fb20>"
            ]
          },
          "metadata": {},
          "execution_count": 21
        },
        {
          "output_type": "display_data",
          "data": {
            "text/plain": [
              "<Figure size 432x288 with 1 Axes>"
            ],
            "image/png": "[encoded data removed]"
          },
          "metadata": {
            "needs_background": "light"
          }
        }
      ],
      "source": [
        "import matplotlib.pyplot as plt\n",
        "x = jnp.linspace(0,1,1000)\n",
        "x = xx.reshape((1000,1))\n",
        "y = batched_grad(params,x)\n",
        "z = batched_predict(params,x)\n",
        "y2p = batched_grad(params2,x)\n",
        "z2p = batched_predict(params2,x)\n",
        "y3 = batched_grad(params3,x)\n",
        "z3 = batched_predict(params3,x)\n",
        "y2 = y2p - jnp.mean(y2p*y)/jnp.mean(y*y)*y\n",
        "z2 = z2p-z*jnp.mean(y2p*y)/jnp.mean(y*y)\n",
        "\n",
        "s = y3 - jnp.mean(y3*y)/jnp.mean(y*y)*y - jnp.mean(y3*y2)/jnp.mean(y2*y2)*y2\n",
        "ss = -(z3-z*jnp.mean(y3*y)/jnp.mean(y*y)-z2*jnp.mean(y3*y2)/jnp.mean(y2*y2))\n",
        "plt.plot(ss/jnp.sqrt(jnp.mean(ss**2)))\n",
        "plt.plot(jnp.sin(3*jnp.pi*xx)*jnp.sqrt(3))\n",
        "\n",
        "plt.legend(['Calculated eigenfunction','theoretical eigenfunction'])"
      ]
    },
    {
      "cell_type": "code",
      "execution_count": null,
      "metadata": {
        "colab": {
          "base_uri": "https://localhost:8080/"
        },
        "id": "0U3iWpI4fDaD",
        "outputId": "b9dc6453-ca1a-496e-f41a-9d1f0700445f"
      },
      "outputs": [
        {
          "output_type": "execute_result",
          "data": {
            "text/plain": [
              "Array(88.914246, dtype=float32)"
            ]
          },
          "metadata": {},
          "execution_count": 22
        }
      ],
      "source": [
        "los[-1]"
      ]
    },
    {
      "cell_type": "code",
      "execution_count": null,
      "metadata": {
        "colab": {
          "base_uri": "https://localhost:8080/"
        },
        "id": "APSswLsRjwtH",
        "outputId": "d924b955-8498-4b4d-b312-591bdf00470a"
      },
      "outputs": [
        {
          "output_type": "execute_result",
          "data": {
            "text/plain": [
              "88.82643960980423"
            ]
          },
          "metadata": {},
          "execution_count": 23
        }
      ],
      "source": [
        "9*jnp.pi**2"
      ]
    },
    {
      "cell_type": "markdown",
      "source": [
        "Code To Continue Solving For Eigenvalues:\n"
      ],
      "metadata": {
        "id": "XCywW-gX3NIF"
      }
    },
    {
      "cell_type": "code",
      "source": [
        "num_eigs = 5\n",
        "params_all = []\n",
        "layer_sizes = [1, 256, 256, 1]\n",
        "step_size = 1e-3\n",
        "for i in range(num_eigs):\n",
        "   params = init_network_params(layer_sizes, random.PRNGKey(0))\n",
        "   params_all.append(params)\n"
      ],
      "metadata": {
        "id": "cHGtvOdf3Ske"
      },
      "execution_count": null,
      "outputs": []
    },
    {
      "cell_type": "code",
      "source": [
        "def predict_one(params,x):\n",
        "  return predict(params,x)[0]\n",
        "batched_predict = vmap(predict_one, in_axes=(None, 0))\n",
        "batched_grad = vmap(grad(predict_one,argnums=1), in_axes=(None, 0))\n"
      ],
      "metadata": {
        "id": "yam46hx8oaF-"
      },
      "execution_count": null,
      "outputs": []
    },
    {
      "cell_type": "code",
      "source": [
        "batched_grad(params,x).shape"
      ],
      "metadata": {
        "colab": {
          "base_uri": "https://localhost:8080/"
        },
        "id": "wObYGCLcjBZt",
        "outputId": "dc9b7cbf-cc5d-4223-bed2-6d5f6f44ee7a"
      },
      "execution_count": null,
      "outputs": [
        {
          "output_type": "execute_result",
          "data": {
            "text/plain": [
              "(1000, 1)"
            ]
          },
          "metadata": {},
          "execution_count": 579
        }
      ]
    },
    {
      "cell_type": "code",
      "source": [
        "def loss_i(params,params_other,x):\n",
        "  yi = batched_grad(params,x)\n",
        "  zi = batched_predict(params,x)\n",
        "  y = [batched_grad(params_other[i],x) for i in range(len(params_other))]\n",
        "  z = [batched_predict(params_other[i],x) for i in range(len(params_other))]\n",
        "  y.append(yi)\n",
        "  z.append(zi)\n",
        "  print(len(y))\n",
        "  y, z = y_to_v(y,z)\n",
        "  return jnp.mean(y[-1]**2)/jnp.mean(z[-1]**2)"
      ],
      "metadata": {
        "id": "EWaSZaOYb1yy"
      },
      "execution_count": null,
      "outputs": []
    },
    {
      "cell_type": "code",
      "source": [
        "# def loss_i(params,params_other,x):\n",
        "#   yi = batched_grad(params,x)\n",
        "#   zi = batched_predict(params,x)\n",
        "#   dv = yi\n",
        "#   v = zi\n",
        "#   y = [batched_grad(params_other[i],x) for i in range(len(params_other))]\n",
        "#   z = [batched_predict(params_other[i],x) for i in range(len(params_other))]\n",
        "#   y, z = y_to_v(y,z)\n",
        "#   for i in range(len(params_other)):\n",
        "#     dv = dv - jnp.mean(yi*y[i])/jnp.mean(y[i]*y[i])*y[i]\n",
        "#     v = v - jnp.mean(yi*y[i])/jnp.mean(y[i]*y[i])*z[i]\n",
        "#   return jnp.mean(dv**2)/jnp.mean(v**2)\n",
        "\n",
        "\n",
        "\n"
      ],
      "metadata": {
        "id": "qqkJGwOUmn8K"
      },
      "execution_count": null,
      "outputs": []
    },
    {
      "cell_type": "code",
      "source": [
        "def y_to_v(y,z):\n",
        "  dv = []\n",
        "  v = []\n",
        "\n",
        "  for i in range(len(y)):\n",
        "    yy=y[i]\n",
        "    zz=z[i]\n",
        "    for k in range(i):\n",
        "      yy = yy - jnp.mean(y[i]*y[k])/jnp.mean(y[k]*y[k])*y[k]\n",
        "      zz = zz - jnp.mean(y[i]*y[k])/jnp.mean(y[k]*y[k])*z[k]\n",
        "    y[i]=yy\n",
        "    z[i]=zz\n",
        "    dv.append(yy)\n",
        "    v.append(zz)\n",
        "  return dv, v\n",
        "\n"
      ],
      "metadata": {
        "id": "zNRbKsI9t2YZ"
      },
      "execution_count": null,
      "outputs": []
    },
    {
      "cell_type": "code",
      "source": [
        "[[(i,k) for k in range(i)] for i in range(3)]"
      ],
      "metadata": {
        "colab": {
          "base_uri": "https://localhost:8080/"
        },
        "id": "b9UzsXci7_Ad",
        "outputId": "02e1008f-6882-4c04-92dc-43614c127d21"
      },
      "execution_count": null,
      "outputs": [
        {
          "output_type": "execute_result",
          "data": {
            "text/plain": [
              "[[], [(1, 0)], [(2, 0), (2, 1)]]"
            ]
          },
          "metadata": {},
          "execution_count": 583
        }
      ]
    },
    {
      "cell_type": "code",
      "source": [
        "y = [batched_grad(params_all[i],x) for i in range(3)]\n",
        "z = [batched_predict(params_all[i],x) for i in range(3)]\n",
        "yy, zz = y_to_v(y,z)"
      ],
      "metadata": {
        "id": "B4RWBSeK4Ci_"
      },
      "execution_count": null,
      "outputs": []
    },
    {
      "cell_type": "code",
      "source": [],
      "metadata": {
        "id": "c4Vpi1Yf4bjJ"
      },
      "execution_count": null,
      "outputs": []
    },
    {
      "cell_type": "code",
      "source": [
        "def compute_i(params,params_other,x):\n",
        "  yi = batched_grad(params,x)\n",
        "  zi = batched_predict(params,x)\n",
        "  dv = yi\n",
        "  v = zi\n",
        "  y = [batched_grad(params_other[i],x) for i in range(len(params_other))]\n",
        "  z = [batched_predict(params_other[i],x) for i in range(len(params_other))]\n",
        "  y, z = y_to_v(y,z)\n",
        "  for i in range(len(params_other)):\n",
        "    dv = dv - jnp.mean(yi*y[i])/jnp.mean(y[i]*y[i])*y[i]\n",
        "    v = v - jnp.mean(yi*y[i])/jnp.mean(y[i]*y[i])*z[i]\n",
        "  return v\n",
        "\n",
        "\n",
        "\n"
      ],
      "metadata": {
        "id": "RpWUtStbexx1"
      },
      "execution_count": null,
      "outputs": []
    },
    {
      "cell_type": "code",
      "source": [
        "@jit\n",
        "def update_all(params, params_other, x):\n",
        "  grads = grad(loss_i)(params, params_other, x)\n",
        "  return [(w - step_size * dw, b - step_size * db)\n",
        "          for (w, b), (dw, db) in zip(params, grads)]\n"
      ],
      "metadata": {
        "id": "iRMTYe6rfA6q"
      },
      "execution_count": null,
      "outputs": []
    },
    {
      "cell_type": "code",
      "source": [
        "tmp = [0,1,2]\n",
        "tmp[:2]\n",
        "tmp[2]"
      ],
      "metadata": {
        "id": "uoAZxns8mgyN",
        "colab": {
          "base_uri": "https://localhost:8080/"
        },
        "outputId": "4c1d5989-6671-4108-af04-2b2c98b48d17"
      },
      "execution_count": null,
      "outputs": [
        {
          "output_type": "execute_result",
          "data": {
            "text/plain": [
              "2"
            ]
          },
          "metadata": {},
          "execution_count": 587
        }
      ]
    },
    {
      "cell_type": "code",
      "source": [
        "for epoch in range(3000):\n",
        "    x = random.uniform(random.PRNGKey(1),(1000,1),minval=0.,maxval=1.)\n",
        "    for _ in range(1):\n",
        "       params_all[0] = update_all(params_all[0],[], x)\n",
        "       for j in range(num_eigs-1):\n",
        "        params_all[j+1] = update_all(params_all[j+1],params_all[:(j+1)], x)"
      ],
      "metadata": {
        "id": "eg6Kpm_MfCm5"
      },
      "execution_count": null,
      "outputs": []
    },
    {
      "cell_type": "code",
      "source": [
        "# for epoch in range(10000):\n",
        "#     x = random.uniform(random.PRNGKey(1),(1000,1),minval=0.,maxval=1.)\n",
        "#     for _ in range(1):\n",
        "#         j = 0\n",
        "#         params_all[j+1] = update_all(params_all[j+1],params_all[:(j+1)], x)"
      ],
      "metadata": {
        "id": "wtSVGg62z5eA"
      },
      "execution_count": null,
      "outputs": []
    },
    {
      "cell_type": "code",
      "source": [
        "# for epoch in range(3000):\n",
        "#     x = random.uniform(random.PRNGKey(1),(1000,1),minval=0.,maxval=1.)\n",
        "#     for _ in range(1):\n",
        "#         j = 2\n",
        "#         params_all[j+1] = update_all(params_all[j+1],params_all[:(j+1)], x)"
      ],
      "metadata": {
        "id": "ieFEIAQPz_Ac"
      },
      "execution_count": null,
      "outputs": []
    },
    {
      "cell_type": "code",
      "source": [
        "import matplotlib.pyplot as plt\n",
        "x = jnp.linspace(0,1,1000)\n",
        "x = x.reshape((1000,1))\n",
        "Y = [batched_grad(params_all[i],x) for i in range(num_eigs)]\n",
        "Z = [batched_predict(params_all[i],x) for i in range(num_eigs)]\n",
        "y, z = y_to_v(Y,Z)\n",
        "# y1 = batched_grad(params_all[0],x)\n",
        "# z1 = batched_predict(params_all[0],x)\n",
        "# Z.append(z1)\n",
        "# for j in range(num_eigs-1):\n",
        "#   zj = compute_i(params_all[j+1],params_all[:(j+1)],x)\n",
        "#   Z.append(zj)\n",
        "for zz in z:\n",
        "  plt.plot(x,zz/jnp.sqrt(jnp.mean(zz**2)))\n"
      ],
      "metadata": {
        "colab": {
          "base_uri": "https://localhost:8080/",
          "height": 266
        },
        "id": "IEjMb_xXwMA7",
        "outputId": "94225d09-93ea-4267-ad15-633177e7c085"
      },
      "execution_count": null,
      "outputs": [
        {
          "output_type": "display_data",
          "data": {
            "text/plain": [
              "<Figure size 432x288 with 1 Axes>"
            ],
            "image/png": "[encoded data removed]"
          },
          "metadata": {
            "needs_background": "light"
          }
        }
      ]
    },
    {
      "cell_type": "code",
      "source": [
        "num_eigs = 2\n",
        "params_all = []\n",
        "layer_sizes = [1, 256, 256, num_eigs]\n",
        "step_size = 1e-3\n",
        "for i in range(num_eigs):\n",
        "   params = init_network_params(layer_sizes, random.PRNGKey(0))\n",
        "   params_all.append(params)\n"
      ],
      "metadata": {
        "id": "D5f7R1tJGZ5Y"
      },
      "execution_count": null,
      "outputs": []
    },
    {
      "cell_type": "code",
      "source": [
        "params = init_network_params(layer_sizes, random.PRNGKey(0))\n"
      ],
      "metadata": {
        "id": "GwfTeyZmGfuj"
      },
      "execution_count": null,
      "outputs": []
    },
    {
      "cell_type": "code",
      "source": [
        "zz=batched_predict(params,x)\n"
      ],
      "metadata": {
        "id": "Qfvj9TmyGioJ"
      },
      "execution_count": null,
      "outputs": []
    },
    {
      "cell_type": "code",
      "source": [
        "def predict_one(params,x):\n",
        "  return predict(params,x)\n",
        "batched_predict = vmap(predict_one, in_axes=(None, 0))\n",
        "batched_grad = vmap(jacrev(predict_one,argnums=1), in_axes=(None, 0))\n"
      ],
      "metadata": {
        "id": "mzAgAwaNGpiC"
      },
      "execution_count": null,
      "outputs": []
    },
    {
      "cell_type": "code",
      "source": [
        "y = batched_grad(params,x)[:,:,0]\n",
        "z = batched_predict(params,x)"
      ],
      "metadata": {
        "id": "hQwF8fpnGyLn"
      },
      "execution_count": null,
      "outputs": []
    },
    {
      "cell_type": "code",
      "source": [
        "from jax import jacfwd, jacrev\n"
      ],
      "metadata": {
        "id": "jXewdMyvHBaZ"
      },
      "execution_count": null,
      "outputs": []
    },
    {
      "cell_type": "code",
      "source": [
        "y.shape[-1]"
      ],
      "metadata": {
        "colab": {
          "base_uri": "https://localhost:8080/"
        },
        "id": "qOVKYy2CHNMM",
        "outputId": "38a58371-f8d7-4f52-80c7-6cb0fb7d7316"
      },
      "execution_count": null,
      "outputs": [
        {
          "output_type": "execute_result",
          "data": {
            "text/plain": [
              "2"
            ]
          },
          "metadata": {},
          "execution_count": 711
        }
      ]
    },
    {
      "cell_type": "code",
      "source": [
        "def loss_all(params,x):\n",
        "  y = batched_grad(params,x)[:,:,0]\n",
        "  z = batched_predict(params,x)\n",
        "  y,z = y_to_v(y,z)\n",
        "  loss = 0\n",
        "  for i in range(len(y)):\n",
        "    loss += jnp.mean(y[i]**2)/jnp.mean(z[i]**2)\n",
        "  return loss"
      ],
      "metadata": {
        "id": "KRGoekqOHPx4"
      },
      "execution_count": null,
      "outputs": []
    },
    {
      "cell_type": "code",
      "source": [
        "def y_to_v(y,z):\n",
        "  dv = []\n",
        "  v = []\n",
        "  yp=[]\n",
        "  zp=[]\n",
        "  for i in range(y.shape[-1]):\n",
        "    yy=y[:,i]\n",
        "    zz=z[:,i]\n",
        "    for k in range(i):\n",
        "      yy = yy - jnp.mean(y[:,i]*yp[k])/jnp.mean(yp[k]*yp[k])*yp[k]\n",
        "      zz = zz - jnp.mean(y[:,i]*yp[k])/jnp.mean(yp[k]*yp[k])*zp[k]\n",
        "    yp.append(yy)\n",
        "    zp.append(zz)\n",
        "  return yp,zp\n",
        "\n"
      ],
      "metadata": {
        "id": "ATfgzAQsHnNI"
      },
      "execution_count": null,
      "outputs": []
    },
    {
      "cell_type": "code",
      "source": [
        "@jit\n",
        "def update_all(params, x):\n",
        "  grads = grad(loss_all)(params, x)\n",
        "  return [(w - step_size * dw, b - step_size * db)\n",
        "          for (w, b), (dw, db) in zip(params, grads)]\n"
      ],
      "metadata": {
        "id": "dzjhg7fQH708"
      },
      "execution_count": null,
      "outputs": []
    },
    {
      "cell_type": "code",
      "source": [
        "for epoch in range(3000):\n",
        "    x = random.uniform(random.PRNGKey(1),(1000,1),minval=0.,maxval=1.)\n",
        "    for _ in range(1):\n",
        "       params = update_all(params, x)\n"
      ],
      "metadata": {
        "id": "m5SwKosdIPsH"
      },
      "execution_count": null,
      "outputs": []
    },
    {
      "cell_type": "code",
      "source": [
        "import matplotlib.pyplot as plt\n",
        "x = jnp.linspace(0,1,1000)\n",
        "x = x.reshape((1000,1))\n",
        "Y = batched_grad(params,x)[:,:,0]\n",
        "Z = batched_predict(params,x)\n",
        "y, z = y_to_v(Y,Z)\n",
        "# y1 = batched_grad(params_all[0],x)\n",
        "# z1 = batched_predict(params_all[0],x)\n",
        "# Z.append(z1)\n",
        "# for j in range(num_eigs-1):\n",
        "#   zj = compute_i(params_all[j+1],params_all[:(j+1)],x)\n",
        "#   Z.append(zj)\n",
        "for zz in z:\n",
        "  plt.plot(x,zz/jnp.sqrt(jnp.mean(zz**2)))\n"
      ],
      "metadata": {
        "colab": {
          "base_uri": "https://localhost:8080/",
          "height": 265
        },
        "id": "JvTXzffzIZ_u",
        "outputId": "b873e6d6-69d4-45bc-c446-de66888d1d68"
      },
      "execution_count": null,
      "outputs": [
        {
          "output_type": "display_data",
          "data": {
            "text/plain": [
              "<Figure size 432x288 with 1 Axes>"
            ],
            "image/png": "[encoded data removed]"
          },
          "metadata": {
            "needs_background": "light"
          }
        }
      ]
    },
    {
      "cell_type": "code",
      "source": [
        "z[0].shape"
      ],
      "metadata": {
        "colab": {
          "base_uri": "https://localhost:8080/"
        },
        "id": "4j8w6K7sK61H",
        "outputId": "2ad3943e-3958-46dd-9028-080164dbdcd3"
      },
      "execution_count": null,
      "outputs": [
        {
          "output_type": "execute_result",
          "data": {
            "text/plain": [
              "(1000,)"
            ]
          },
          "metadata": {},
          "execution_count": 717
        }
      ]
    },
    {
      "cell_type": "code",
      "source": [],
      "metadata": {
        "id": "e5xcV3DoLF7g"
      },
      "execution_count": null,
      "outputs": []
    }
  ],
  "metadata": {
    "accelerator": "GPU",
    "colab": {
      "provenance": [],
      "include_colab_link": true
    },
    "gpuClass": "standard",
    "kernelspec": {
      "display_name": "Python 3",
      "name": "python3"
    },
    "language_info": {
      "name": "python"
    }
  },
  "nbformat": 4,
  "nbformat_minor": 0
}